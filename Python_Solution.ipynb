{
 "cells": [
  {
   "cell_type": "code",
   "execution_count": 1,
   "id": "f286e286",
   "metadata": {},
   "outputs": [],
   "source": [
    "import numpy as np"
   ]
  },
  {
   "cell_type": "code",
   "execution_count": 3,
   "id": "da75e4df",
   "metadata": {},
   "outputs": [],
   "source": [
    "patient_age = np.array([25, 30, 40, 22, 35, 50, 29, 60, 41, 28])\n",
    "avrg_age = patient_age.mean()"
   ]
  },
  {
   "cell_type": "code",
   "execution_count": 4,
   "id": "e0d8f2af",
   "metadata": {},
   "outputs": [
    {
     "data": {
      "text/plain": [
       "36.0"
      ]
     },
     "execution_count": 4,
     "metadata": {},
     "output_type": "execute_result"
    }
   ],
   "source": [
    "avrg_age"
   ]
  },
  {
   "cell_type": "code",
   "execution_count": 5,
   "id": "49c0a8ad",
   "metadata": {},
   "outputs": [
    {
     "data": {
      "text/plain": [
       "300"
      ]
     },
     "execution_count": 5,
     "metadata": {},
     "output_type": "execute_result"
    }
   ],
   "source": [
    "chol_level = np.array([210, 180, 230, 250, 300, 220, 200, 190])\n",
    "chol_level.max()"
   ]
  },
  {
   "cell_type": "code",
   "execution_count": 6,
   "id": "601b160e",
   "metadata": {},
   "outputs": [
    {
     "data": {
      "text/plain": [
       "11.055415967851333"
      ]
     },
     "execution_count": 6,
     "metadata": {},
     "output_type": "execute_result"
    }
   ],
   "source": [
    "blood_pre = np.array([120, 130, 140, 135, 125, 110, 145, 120, 130, 140, 150, 135])\n",
    "blood_pre.std()"
   ]
  },
  {
   "cell_type": "code",
   "execution_count": 7,
   "id": "b7b14438",
   "metadata": {},
   "outputs": [
    {
     "data": {
      "text/plain": [
       "37.1"
      ]
     },
     "execution_count": 7,
     "metadata": {},
     "output_type": "execute_result"
    }
   ],
   "source": [
    "temperatures = np.array([37.1, 36.5, 37.3, 36.8, 37.0, 38.0, 36.7, 37.2, 36.9, 37.5])\n",
    "temperatures.mean()"
   ]
  },
  {
   "cell_type": "code",
   "execution_count": 8,
   "id": "46e98e38",
   "metadata": {},
   "outputs": [
    {
     "data": {
      "text/plain": [
       "array([80, 66, 68, 70, 75, 82, 58, 65, 72, 60])"
      ]
     },
     "execution_count": 8,
     "metadata": {},
     "output_type": "execute_result"
    }
   ],
   "source": [
    "weight = np.array([60, 72, 65, 58, 82, 75, 70, 68, 66, 80])\n",
    "flipped_w = np.flip(weight)\n",
    "flipped_w"
   ]
  },
  {
   "cell_type": "code",
   "execution_count": 10,
   "id": "528ee5d8",
   "metadata": {},
   "outputs": [
    {
     "data": {
      "text/plain": [
       "array([[ 25,  70, 120],\n",
       "       [ 30,  80, 130],\n",
       "       [ 40,  85, 140]])"
      ]
     },
     "execution_count": 10,
     "metadata": {},
     "output_type": "execute_result"
    }
   ],
   "source": [
    "p_data = np.array([[25, 70, 120],[30, 80, 130],[40, 85, 140]])\n",
    "p_data"
   ]
  },
  {
   "cell_type": "code",
   "execution_count": 11,
   "id": "fcd40918",
   "metadata": {},
   "outputs": [
    {
     "data": {
      "text/plain": [
       "array([[130]])"
      ]
     },
     "execution_count": 11,
     "metadata": {},
     "output_type": "execute_result"
    }
   ],
   "source": [
    "p_data[1:2,2:]"
   ]
  },
  {
   "cell_type": "code",
   "execution_count": 14,
   "id": "66ae586c",
   "metadata": {},
   "outputs": [],
   "source": [
    "arr = np.array([[5.6, 7.1, 6.2, 5.8],\n",
    "[5.3, 6.9, 7.0, 6.5],\n",
    "[5.7, 6.5, 6.8, 6.0],\n",
    "[5.4, 7.0, 6.5, 5.9]]\n",
    ")"
   ]
  },
  {
   "cell_type": "code",
   "execution_count": 16,
   "id": "bcdc6951",
   "metadata": {},
   "outputs": [
    {
     "data": {
      "text/plain": [
       "array([24.7, 25.7, 25. , 24.8])"
      ]
     },
     "execution_count": 16,
     "metadata": {},
     "output_type": "execute_result"
    }
   ],
   "source": [
    "np.sum(arr,axis=1)"
   ]
  },
  {
   "cell_type": "code",
   "execution_count": 17,
   "id": "0a6b1f35",
   "metadata": {},
   "outputs": [],
   "source": [
    "pa=np.array([[80, 85, 90],\n",
    "[95, 92, 88],\n",
    "[85, 83, 82],\n",
    "[100, 105, 110],\n",
    "[75, 78, 80]])\n"
   ]
  },
  {
   "cell_type": "code",
   "execution_count": 19,
   "id": "5853a088",
   "metadata": {},
   "outputs": [
    {
     "data": {
      "text/plain": [
       "83.33333333333333"
      ]
     },
     "execution_count": 19,
     "metadata": {},
     "output_type": "execute_result"
    }
   ],
   "source": [
    "pa[2:3,:].mean()"
   ]
  },
  {
   "cell_type": "code",
   "execution_count": 28,
   "id": "dafdcbee",
   "metadata": {},
   "outputs": [
    {
     "data": {
      "text/plain": [
       "array([[1326., 1410.],\n",
       "       [1946., 1960.],\n",
       "       [1696., 1672.]])"
      ]
     },
     "execution_count": 28,
     "metadata": {},
     "output_type": "execute_result"
    }
   ],
   "source": [
    "np.array([[22.1, 23.5],\n",
    "[27.8, 28.0],\n",
    "[21.2, 20.9]])*np.array([60, 70, 80]).reshape(-1,1)"
   ]
  },
  {
   "cell_type": "code",
   "execution_count": 30,
   "id": "d64f7db5",
   "metadata": {},
   "outputs": [],
   "source": [
    "a=np.array([[37.0, 36.5, 37.1, 36.9, 37.0],\n",
    "[36.8, 37.3, 37.0, 36.7, 37.2]])"
   ]
  },
  {
   "cell_type": "code",
   "execution_count": 31,
   "id": "87e739f5",
   "metadata": {},
   "outputs": [
    {
     "data": {
      "text/plain": [
       "array([37.1, 37.3])"
      ]
     },
     "execution_count": 31,
     "metadata": {},
     "output_type": "execute_result"
    }
   ],
   "source": [
    "np.max(a,axis=1)"
   ]
  },
  {
   "cell_type": "code",
   "execution_count": null,
   "id": "894bfd53",
   "metadata": {},
   "outputs": [],
   "source": []
  },
  {
   "cell_type": "code",
   "execution_count": 7,
   "id": "5ce104f5",
   "metadata": {},
   "outputs": [],
   "source": [
    "import pandas as pd"
   ]
  },
  {
   "cell_type": "code",
   "execution_count": 8,
   "id": "af1a22ad",
   "metadata": {},
   "outputs": [
    {
     "data": {
      "text/plain": [
       "{'Name': ['John', 'Jane', 'Tom', 'Alice'],\n",
       " 'Age': [28, 34, 45, 52],\n",
       " 'Blood Pressure': [120, 130, 140, 150],\n",
       " 'Cholesterol': [200, 220, 240, 260]}"
      ]
     },
     "execution_count": 8,
     "metadata": {},
     "output_type": "execute_result"
    }
   ],
   "source": [
    "data = {'Name': ['John', 'Jane', 'Tom', 'Alice'],\n",
    "        'Age': [28, 34, 45, 52],\n",
    "        'Blood Pressure': [120, 130, 140, 150],\n",
    "        'Cholesterol': [200, 220, 240, 260]}\n",
    "data"
   ]
  },
  {
   "cell_type": "code",
   "execution_count": 9,
   "id": "e3464c53",
   "metadata": {},
   "outputs": [
    {
     "data": {
      "text/html": [
       "<div>\n",
       "<style scoped>\n",
       "    .dataframe tbody tr th:only-of-type {\n",
       "        vertical-align: middle;\n",
       "    }\n",
       "\n",
       "    .dataframe tbody tr th {\n",
       "        vertical-align: top;\n",
       "    }\n",
       "\n",
       "    .dataframe thead th {\n",
       "        text-align: right;\n",
       "    }\n",
       "</style>\n",
       "<table border=\"1\" class=\"dataframe\">\n",
       "  <thead>\n",
       "    <tr style=\"text-align: right;\">\n",
       "      <th></th>\n",
       "      <th>Name</th>\n",
       "      <th>Age</th>\n",
       "      <th>Blood Pressure</th>\n",
       "      <th>Cholesterol</th>\n",
       "    </tr>\n",
       "  </thead>\n",
       "  <tbody>\n",
       "    <tr>\n",
       "      <th>0</th>\n",
       "      <td>John</td>\n",
       "      <td>28</td>\n",
       "      <td>120</td>\n",
       "      <td>200</td>\n",
       "    </tr>\n",
       "    <tr>\n",
       "      <th>1</th>\n",
       "      <td>Jane</td>\n",
       "      <td>34</td>\n",
       "      <td>130</td>\n",
       "      <td>220</td>\n",
       "    </tr>\n",
       "    <tr>\n",
       "      <th>2</th>\n",
       "      <td>Tom</td>\n",
       "      <td>45</td>\n",
       "      <td>140</td>\n",
       "      <td>240</td>\n",
       "    </tr>\n",
       "    <tr>\n",
       "      <th>3</th>\n",
       "      <td>Alice</td>\n",
       "      <td>52</td>\n",
       "      <td>150</td>\n",
       "      <td>260</td>\n",
       "    </tr>\n",
       "  </tbody>\n",
       "</table>\n",
       "</div>"
      ],
      "text/plain": [
       "    Name  Age  Blood Pressure  Cholesterol\n",
       "0   John   28             120          200\n",
       "1   Jane   34             130          220\n",
       "2    Tom   45             140          240\n",
       "3  Alice   52             150          260"
      ]
     },
     "execution_count": 9,
     "metadata": {},
     "output_type": "execute_result"
    }
   ],
   "source": [
    "ata=pd.DataFrame(data)\n",
    "datad"
   ]
  },
  {
   "cell_type": "code",
   "execution_count": 10,
   "id": "f1ecce45",
   "metadata": {},
   "outputs": [
    {
     "data": {
      "text/html": [
       "<div>\n",
       "<style scoped>\n",
       "    .dataframe tbody tr th:only-of-type {\n",
       "        vertical-align: middle;\n",
       "    }\n",
       "\n",
       "    .dataframe tbody tr th {\n",
       "        vertical-align: top;\n",
       "    }\n",
       "\n",
       "    .dataframe thead th {\n",
       "        text-align: right;\n",
       "    }\n",
       "</style>\n",
       "<table border=\"1\" class=\"dataframe\">\n",
       "  <thead>\n",
       "    <tr style=\"text-align: right;\">\n",
       "      <th></th>\n",
       "      <th>Name</th>\n",
       "      <th>Age</th>\n",
       "      <th>Blood Pressure</th>\n",
       "      <th>Cholesterol</th>\n",
       "    </tr>\n",
       "  </thead>\n",
       "  <tbody>\n",
       "    <tr>\n",
       "      <th>2</th>\n",
       "      <td>Tom</td>\n",
       "      <td>45</td>\n",
       "      <td>140</td>\n",
       "      <td>240</td>\n",
       "    </tr>\n",
       "    <tr>\n",
       "      <th>3</th>\n",
       "      <td>Alice</td>\n",
       "      <td>52</td>\n",
       "      <td>150</td>\n",
       "      <td>260</td>\n",
       "    </tr>\n",
       "  </tbody>\n",
       "</table>\n",
       "</div>"
      ],
      "text/plain": [
       "    Name  Age  Blood Pressure  Cholesterol\n",
       "2    Tom   45             140          240\n",
       "3  Alice   52             150          260"
      ]
     },
     "execution_count": 10,
     "metadata": {},
     "output_type": "execute_result"
    }
   ],
   "source": [
    "data[data['Cholesterol']>220]"
   ]
  },
  {
   "cell_type": "code",
   "execution_count": 11,
   "id": "7a190668",
   "metadata": {},
   "outputs": [
    {
     "data": {
      "text/html": [
       "<div>\n",
       "<style scoped>\n",
       "    .dataframe tbody tr th:only-of-type {\n",
       "        vertical-align: middle;\n",
       "    }\n",
       "\n",
       "    .dataframe tbody tr th {\n",
       "        vertical-align: top;\n",
       "    }\n",
       "\n",
       "    .dataframe thead th {\n",
       "        text-align: right;\n",
       "    }\n",
       "</style>\n",
       "<table border=\"1\" class=\"dataframe\">\n",
       "  <thead>\n",
       "    <tr style=\"text-align: right;\">\n",
       "      <th></th>\n",
       "      <th>Name</th>\n",
       "      <th>Age</th>\n",
       "      <th>Blood Pressure</th>\n",
       "      <th>Cholesterol</th>\n",
       "    </tr>\n",
       "  </thead>\n",
       "  <tbody>\n",
       "    <tr>\n",
       "      <th>0</th>\n",
       "      <td>John</td>\n",
       "      <td>28</td>\n",
       "      <td>120</td>\n",
       "      <td>200</td>\n",
       "    </tr>\n",
       "    <tr>\n",
       "      <th>1</th>\n",
       "      <td>Jane</td>\n",
       "      <td>34</td>\n",
       "      <td>130</td>\n",
       "      <td>220</td>\n",
       "    </tr>\n",
       "    <tr>\n",
       "      <th>2</th>\n",
       "      <td>Tom</td>\n",
       "      <td>45</td>\n",
       "      <td>140</td>\n",
       "      <td>240</td>\n",
       "    </tr>\n",
       "    <tr>\n",
       "      <th>3</th>\n",
       "      <td>Alice</td>\n",
       "      <td>52</td>\n",
       "      <td>150</td>\n",
       "      <td>260</td>\n",
       "    </tr>\n",
       "  </tbody>\n",
       "</table>\n",
       "</div>"
      ],
      "text/plain": [
       "    Name  Age  Blood Pressure  Cholesterol\n",
       "0   John   28             120          200\n",
       "1   Jane   34             130          220\n",
       "2    Tom   45             140          240\n",
       "3  Alice   52             150          260"
      ]
     },
     "execution_count": 11,
     "metadata": {},
     "output_type": "execute_result"
    }
   ],
   "source": [
    "data"
   ]
  },
  {
   "cell_type": "code",
   "execution_count": 16,
   "id": "4fd0b30d",
   "metadata": {},
   "outputs": [],
   "source": [
    "data_bmi = {'Name': ['John', 'Jane', 'Tom', 'Alice'],\n",
    "        'Age': [28, 34, 45, 52],\n",
    "        'Blood Pressure': [120, 130, 140, 150],\n",
    "        'Cholesterol': [200, 220, 240, 260],\n",
    "         'Height': [7, 8, 5, 6],\n",
    "          'Weight': [30, 50, 75,65]}"
   ]
  },
  {
   "cell_type": "code",
   "execution_count": 18,
   "id": "22b52765",
   "metadata": {},
   "outputs": [],
   "source": [
    "df_bmi = pd.DataFrame(data_bmi)"
   ]
  },
  {
   "cell_type": "code",
   "execution_count": 20,
   "id": "d369c414",
   "metadata": {},
   "outputs": [],
   "source": [
    "df_bmi['BMI'] = df_bmi['Weight'] / (df_bmi['Height'] ** 2)"
   ]
  },
  {
   "cell_type": "code",
   "execution_count": 21,
   "id": "3c37472b",
   "metadata": {},
   "outputs": [
    {
     "name": "stdout",
     "output_type": "stream",
     "text": [
      "    Name  Age  Blood Pressure  Cholesterol  Height  Weight       BMI\n",
      "0   John   28             120          200       7      30  0.612245\n",
      "1   Jane   34             130          220       8      50  0.781250\n",
      "2    Tom   45             140          240       5      75  3.000000\n",
      "3  Alice   52             150          260       6      65  1.805556\n"
     ]
    }
   ],
   "source": [
    "print(df_bmi)"
   ]
  },
  {
   "cell_type": "code",
   "execution_count": 1,
   "id": "ecff44df",
   "metadata": {},
   "outputs": [],
   "source": [
    "patient_blood_test = ({'Test ID': [1, 2, 3, 4],\n",
    "                       'Patient Name': ['John', 'Jane', 'Tom', 'Alice'],\n",
    "                       'Result': [5.6, 6.1, 5.8, 6.3]})\n"
   ]
  },
  {
   "cell_type": "code",
   "execution_count": 5,
   "id": "6b02a250",
   "metadata": {},
   "outputs": [],
   "source": [
    "import pandas as pd"
   ]
  },
  {
   "cell_type": "code",
   "execution_count": 23,
   "id": "24ddb784",
   "metadata": {},
   "outputs": [],
   "source": [
    "blood_pressure=pd.Series([120, 130, 140, 135, 125])"
   ]
  },
  {
   "cell_type": "code",
   "execution_count": 35,
   "id": "7f45dc95",
   "metadata": {},
   "outputs": [
    {
     "data": {
      "text/plain": [
       "140"
      ]
     },
     "execution_count": 35,
     "metadata": {},
     "output_type": "execute_result"
    }
   ],
   "source": [
    "blood_pressure.max()\n"
   ]
  },
  {
   "cell_type": "code",
   "execution_count": 36,
   "id": "7cf81ac2",
   "metadata": {},
   "outputs": [
    {
     "data": {
      "text/plain": [
       "120"
      ]
     },
     "execution_count": 36,
     "metadata": {},
     "output_type": "execute_result"
    }
   ],
   "source": [
    "blood_pressure.min()"
   ]
  },
  {
   "cell_type": "code",
   "execution_count": 37,
   "id": "93889d2d",
   "metadata": {},
   "outputs": [],
   "source": [
    "chol_level = pd.Series([210, 180, 220, 250, 280, 230])"
   ]
  },
  {
   "cell_type": "code",
   "execution_count": 38,
   "id": "e8665cc4",
   "metadata": {},
   "outputs": [
    {
     "data": {
      "text/plain": [
       "3    250\n",
       "4    280\n",
       "5    230\n",
       "dtype: int64"
      ]
     },
     "execution_count": 38,
     "metadata": {},
     "output_type": "execute_result"
    }
   ],
   "source": [
    "chol_level[chol_level>220]"
   ]
  },
  {
   "cell_type": "code",
   "execution_count": 39,
   "id": "5cd56e4d",
   "metadata": {},
   "outputs": [],
   "source": [
    "patient_age =  pd.Series([35, 40, 25, 30, 45, 50, 55, 60, 65, 70])"
   ]
  },
  {
   "cell_type": "code",
   "execution_count": 40,
   "id": "f61796a9",
   "metadata": {},
   "outputs": [
    {
     "data": {
      "text/plain": [
       "47.5"
      ]
     },
     "execution_count": 40,
     "metadata": {},
     "output_type": "execute_result"
    }
   ],
   "source": [
    "patient_age.median()"
   ]
  },
  {
   "cell_type": "code",
   "execution_count": 43,
   "id": "53ad39b2",
   "metadata": {},
   "outputs": [
    {
     "data": {
      "text/plain": [
       "0    40\n",
       "1    45\n",
       "2    30\n",
       "3    35\n",
       "4    50\n",
       "5    55\n",
       "6    60\n",
       "7    65\n",
       "8    70\n",
       "9    75\n",
       "dtype: int64"
      ]
     },
     "execution_count": 43,
     "metadata": {},
     "output_type": "execute_result"
    }
   ],
   "source": [
    "weight_measurement = pd.Series([35, 40, 25, 30, 45, 50, 55, 60, 65, 70])\n",
    "weight_measurement +5"
   ]
  },
  {
   "cell_type": "code",
   "execution_count": 44,
   "id": "1d6a0662",
   "metadata": {},
   "outputs": [],
   "source": [
    "temp = pd.Series([37.2, 36.8, 37.5, 38.0, 36.6, 37.1, 36.9, 37.3, 37.4, 37.0])"
   ]
  },
  {
   "cell_type": "code",
   "execution_count": 46,
   "id": "6f6e6fcf",
   "metadata": {},
   "outputs": [
    {
     "data": {
      "text/plain": [
       "37.17999999999999"
      ]
     },
     "execution_count": 46,
     "metadata": {},
     "output_type": "execute_result"
    }
   ],
   "source": [
    "temp.mean()"
   ]
  },
  {
   "cell_type": "markdown",
   "id": "45041916",
   "metadata": {},
   "source": [
    "## Data Frame \n"
   ]
  },
  {
   "cell_type": "code",
   "execution_count": null,
   "id": "ac8ff25f",
   "metadata": {},
   "outputs": [],
   "source": []
  },
  {
   "cell_type": "code",
   "execution_count": 4,
   "id": "123f5301",
   "metadata": {},
   "outputs": [
    {
     "data": {
      "text/html": [
       "<div>\n",
       "<style scoped>\n",
       "    .dataframe tbody tr th:only-of-type {\n",
       "        vertical-align: middle;\n",
       "    }\n",
       "\n",
       "    .dataframe tbody tr th {\n",
       "        vertical-align: top;\n",
       "    }\n",
       "\n",
       "    .dataframe thead th {\n",
       "        text-align: right;\n",
       "    }\n",
       "</style>\n",
       "<table border=\"1\" class=\"dataframe\">\n",
       "  <thead>\n",
       "    <tr style=\"text-align: right;\">\n",
       "      <th></th>\n",
       "      <th>Test ID</th>\n",
       "      <th>Patient Name</th>\n",
       "      <th>Result</th>\n",
       "    </tr>\n",
       "  </thead>\n",
       "  <tbody>\n",
       "    <tr>\n",
       "      <th>0</th>\n",
       "      <td>1</td>\n",
       "      <td>John</td>\n",
       "      <td>5.6</td>\n",
       "    </tr>\n",
       "    <tr>\n",
       "      <th>1</th>\n",
       "      <td>2</td>\n",
       "      <td>Jane</td>\n",
       "      <td>6.1</td>\n",
       "    </tr>\n",
       "    <tr>\n",
       "      <th>2</th>\n",
       "      <td>3</td>\n",
       "      <td>Tom</td>\n",
       "      <td>5.8</td>\n",
       "    </tr>\n",
       "    <tr>\n",
       "      <th>3</th>\n",
       "      <td>4</td>\n",
       "      <td>Alice</td>\n",
       "      <td>6.3</td>\n",
       "    </tr>\n",
       "  </tbody>\n",
       "</table>\n",
       "</div>"
      ],
      "text/plain": [
       "   Test ID Patient Name  Result\n",
       "0        1         John     5.6\n",
       "1        2         Jane     6.1\n",
       "2        3          Tom     5.8\n",
       "3        4        Alice     6.3"
      ]
     },
     "execution_count": 4,
     "metadata": {},
     "output_type": "execute_result"
    }
   ],
   "source": [
    "patient_df=pd.DataFrame(patient_blood_test)\n",
    "patient_df"
   ]
  },
  {
   "cell_type": "code",
   "execution_count": 6,
   "id": "e333fc49",
   "metadata": {},
   "outputs": [
    {
     "data": {
      "text/html": [
       "<div>\n",
       "<style scoped>\n",
       "    .dataframe tbody tr th:only-of-type {\n",
       "        vertical-align: middle;\n",
       "    }\n",
       "\n",
       "    .dataframe tbody tr th {\n",
       "        vertical-align: top;\n",
       "    }\n",
       "\n",
       "    .dataframe thead th {\n",
       "        text-align: right;\n",
       "    }\n",
       "</style>\n",
       "<table border=\"1\" class=\"dataframe\">\n",
       "  <thead>\n",
       "    <tr style=\"text-align: right;\">\n",
       "      <th></th>\n",
       "      <th>Test ID</th>\n",
       "      <th>Patient Name</th>\n",
       "      <th>Result</th>\n",
       "    </tr>\n",
       "  </thead>\n",
       "  <tbody>\n",
       "    <tr>\n",
       "      <th>1</th>\n",
       "      <td>2</td>\n",
       "      <td>Jane</td>\n",
       "      <td>6.1</td>\n",
       "    </tr>\n",
       "    <tr>\n",
       "      <th>3</th>\n",
       "      <td>4</td>\n",
       "      <td>Alice</td>\n",
       "      <td>6.3</td>\n",
       "    </tr>\n",
       "  </tbody>\n",
       "</table>\n",
       "</div>"
      ],
      "text/plain": [
       "   Test ID Patient Name  Result\n",
       "1        2         Jane     6.1\n",
       "3        4        Alice     6.3"
      ]
     },
     "execution_count": 6,
     "metadata": {},
     "output_type": "execute_result"
    }
   ],
   "source": [
    "patient_df[patient_df['Result']>6.0]"
   ]
  },
  {
   "cell_type": "code",
   "execution_count": 7,
   "id": "b92d3e60",
   "metadata": {},
   "outputs": [
    {
     "data": {
      "text/plain": [
       "0    False\n",
       "1     True\n",
       "2    False\n",
       "3     True\n",
       "Name: Result, dtype: bool"
      ]
     },
     "execution_count": 7,
     "metadata": {},
     "output_type": "execute_result"
    }
   ],
   "source": [
    "patient_df['Result']>6.0"
   ]
  },
  {
   "cell_type": "code",
   "execution_count": 8,
   "id": "660be13b",
   "metadata": {},
   "outputs": [],
   "source": [
    "patient_data=  {'Name': ['John', 'Jane', 'Tom', 'Alice'],\n",
    "        'Age': [28, 34, 45, 52],\n",
    "        'Blood Pressure': [120, 130, 140, 150],\n",
    "        'Cholesterol': [200, 220, 240, 260],\n",
    "         'Height': [7, 8, 5, 6],\n",
    "          'Weight': [30, 50, 75,65]}"
   ]
  },
  {
   "cell_type": "code",
   "execution_count": 10,
   "id": "411b2fd7",
   "metadata": {},
   "outputs": [
    {
     "data": {
      "text/html": [
       "<div>\n",
       "<style scoped>\n",
       "    .dataframe tbody tr th:only-of-type {\n",
       "        vertical-align: middle;\n",
       "    }\n",
       "\n",
       "    .dataframe tbody tr th {\n",
       "        vertical-align: top;\n",
       "    }\n",
       "\n",
       "    .dataframe thead th {\n",
       "        text-align: right;\n",
       "    }\n",
       "</style>\n",
       "<table border=\"1\" class=\"dataframe\">\n",
       "  <thead>\n",
       "    <tr style=\"text-align: right;\">\n",
       "      <th></th>\n",
       "      <th>Name</th>\n",
       "      <th>Age</th>\n",
       "      <th>Blood Pressure</th>\n",
       "      <th>Cholesterol</th>\n",
       "      <th>Height</th>\n",
       "      <th>Weight</th>\n",
       "    </tr>\n",
       "  </thead>\n",
       "  <tbody>\n",
       "    <tr>\n",
       "      <th>0</th>\n",
       "      <td>John</td>\n",
       "      <td>28</td>\n",
       "      <td>120</td>\n",
       "      <td>200</td>\n",
       "      <td>7</td>\n",
       "      <td>30</td>\n",
       "    </tr>\n",
       "    <tr>\n",
       "      <th>1</th>\n",
       "      <td>Jane</td>\n",
       "      <td>34</td>\n",
       "      <td>130</td>\n",
       "      <td>220</td>\n",
       "      <td>8</td>\n",
       "      <td>50</td>\n",
       "    </tr>\n",
       "    <tr>\n",
       "      <th>2</th>\n",
       "      <td>Tom</td>\n",
       "      <td>45</td>\n",
       "      <td>140</td>\n",
       "      <td>240</td>\n",
       "      <td>5</td>\n",
       "      <td>75</td>\n",
       "    </tr>\n",
       "    <tr>\n",
       "      <th>3</th>\n",
       "      <td>Alice</td>\n",
       "      <td>52</td>\n",
       "      <td>150</td>\n",
       "      <td>260</td>\n",
       "      <td>6</td>\n",
       "      <td>65</td>\n",
       "    </tr>\n",
       "  </tbody>\n",
       "</table>\n",
       "</div>"
      ],
      "text/plain": [
       "    Name  Age  Blood Pressure  Cholesterol  Height  Weight\n",
       "0   John   28             120          200       7      30\n",
       "1   Jane   34             130          220       8      50\n",
       "2    Tom   45             140          240       5      75\n",
       "3  Alice   52             150          260       6      65"
      ]
     },
     "execution_count": 10,
     "metadata": {},
     "output_type": "execute_result"
    }
   ],
   "source": [
    "patient_data=pd.DataFrame(patient_data)\n",
    "patient_data"
   ]
  },
  {
   "cell_type": "code",
   "execution_count": 13,
   "id": "c0dba2b3",
   "metadata": {},
   "outputs": [
    {
     "data": {
      "text/plain": [
       "Age       39.75\n",
       "Height     6.50\n",
       "Weight    55.00\n",
       "dtype: float64"
      ]
     },
     "execution_count": 13,
     "metadata": {},
     "output_type": "execute_result"
    }
   ],
   "source": [
    "patient_data[['Age','Height','Weight']].mean()"
   ]
  },
  {
   "cell_type": "code",
   "execution_count": 16,
   "id": "19a008ca",
   "metadata": {},
   "outputs": [
    {
     "data": {
      "text/plain": [
       "{'Patient Name': ['John', 'Jane', 'Tom', 'Alice'],\n",
       " 'Treatment Type': ['Surgery', 'Consultation', 'Surgery', 'Consultation'],\n",
       " 'Treatment Date': ['2022-01-01', '2022-02-01', '2022-03-01', '2022-04-01']}"
      ]
     },
     "execution_count": 16,
     "metadata": {},
     "output_type": "execute_result"
    }
   ],
   "source": [
    "treatment_details = {'Patient Name': ['John', 'Jane', 'Tom', 'Alice'],\n",
    "                     'Treatment Type': ['Surgery', 'Consultation', 'Surgery', 'Consultation'],\n",
    "                     'Treatment Date': ['2022-01-01', '2022-02-01', '2022-03-01', '2022-04-01']}\n",
    "treatment_details"
   ]
  },
  {
   "cell_type": "code",
   "execution_count": 17,
   "id": "dc4f1d9e",
   "metadata": {},
   "outputs": [
    {
     "data": {
      "text/html": [
       "<div>\n",
       "<style scoped>\n",
       "    .dataframe tbody tr th:only-of-type {\n",
       "        vertical-align: middle;\n",
       "    }\n",
       "\n",
       "    .dataframe tbody tr th {\n",
       "        vertical-align: top;\n",
       "    }\n",
       "\n",
       "    .dataframe thead th {\n",
       "        text-align: right;\n",
       "    }\n",
       "</style>\n",
       "<table border=\"1\" class=\"dataframe\">\n",
       "  <thead>\n",
       "    <tr style=\"text-align: right;\">\n",
       "      <th></th>\n",
       "      <th>Patient Name</th>\n",
       "      <th>Treatment Type</th>\n",
       "      <th>Treatment Date</th>\n",
       "    </tr>\n",
       "  </thead>\n",
       "  <tbody>\n",
       "    <tr>\n",
       "      <th>0</th>\n",
       "      <td>John</td>\n",
       "      <td>Surgery</td>\n",
       "      <td>2022-01-01</td>\n",
       "    </tr>\n",
       "    <tr>\n",
       "      <th>1</th>\n",
       "      <td>Jane</td>\n",
       "      <td>Consultation</td>\n",
       "      <td>2022-02-01</td>\n",
       "    </tr>\n",
       "    <tr>\n",
       "      <th>2</th>\n",
       "      <td>Tom</td>\n",
       "      <td>Surgery</td>\n",
       "      <td>2022-03-01</td>\n",
       "    </tr>\n",
       "    <tr>\n",
       "      <th>3</th>\n",
       "      <td>Alice</td>\n",
       "      <td>Consultation</td>\n",
       "      <td>2022-04-01</td>\n",
       "    </tr>\n",
       "  </tbody>\n",
       "</table>\n",
       "</div>"
      ],
      "text/plain": [
       "  Patient Name Treatment Type Treatment Date\n",
       "0         John        Surgery     2022-01-01\n",
       "1         Jane   Consultation     2022-02-01\n",
       "2          Tom        Surgery     2022-03-01\n",
       "3        Alice   Consultation     2022-04-01"
      ]
     },
     "execution_count": 17,
     "metadata": {},
     "output_type": "execute_result"
    }
   ],
   "source": [
    "treatment_df= pd.DataFrame(treatment_details)\n",
    "treatment_df"
   ]
  },
  {
   "cell_type": "code",
   "execution_count": 20,
   "id": "006f7290",
   "metadata": {},
   "outputs": [
    {
     "data": {
      "text/html": [
       "<div>\n",
       "<style scoped>\n",
       "    .dataframe tbody tr th:only-of-type {\n",
       "        vertical-align: middle;\n",
       "    }\n",
       "\n",
       "    .dataframe tbody tr th {\n",
       "        vertical-align: top;\n",
       "    }\n",
       "\n",
       "    .dataframe thead th {\n",
       "        text-align: right;\n",
       "    }\n",
       "</style>\n",
       "<table border=\"1\" class=\"dataframe\">\n",
       "  <thead>\n",
       "    <tr style=\"text-align: right;\">\n",
       "      <th></th>\n",
       "      <th>Patient Name</th>\n",
       "      <th>Treatment Type</th>\n",
       "      <th>Treatment Date</th>\n",
       "    </tr>\n",
       "  </thead>\n",
       "  <tbody>\n",
       "    <tr>\n",
       "      <th>0</th>\n",
       "      <td>John</td>\n",
       "      <td>Surgery</td>\n",
       "      <td>2022-01-01</td>\n",
       "    </tr>\n",
       "    <tr>\n",
       "      <th>2</th>\n",
       "      <td>Tom</td>\n",
       "      <td>Surgery</td>\n",
       "      <td>2022-03-01</td>\n",
       "    </tr>\n",
       "  </tbody>\n",
       "</table>\n",
       "</div>"
      ],
      "text/plain": [
       "  Patient Name Treatment Type Treatment Date\n",
       "0         John        Surgery     2022-01-01\n",
       "2          Tom        Surgery     2022-03-01"
      ]
     },
     "execution_count": 20,
     "metadata": {},
     "output_type": "execute_result"
    }
   ],
   "source": [
    "treatment_df[treatment_df['Treatment Type']=='Surgery']"
   ]
  },
  {
   "cell_type": "code",
   "execution_count": 29,
   "id": "b766ef14",
   "metadata": {},
   "outputs": [
    {
     "data": {
      "text/html": [
       "<div>\n",
       "<style scoped>\n",
       "    .dataframe tbody tr th:only-of-type {\n",
       "        vertical-align: middle;\n",
       "    }\n",
       "\n",
       "    .dataframe tbody tr th {\n",
       "        vertical-align: top;\n",
       "    }\n",
       "\n",
       "    .dataframe thead th {\n",
       "        text-align: right;\n",
       "    }\n",
       "</style>\n",
       "<table border=\"1\" class=\"dataframe\">\n",
       "  <thead>\n",
       "    <tr style=\"text-align: right;\">\n",
       "      <th></th>\n",
       "      <th>Patient Name</th>\n",
       "      <th>Treatment Type</th>\n",
       "      <th>Treatment Date</th>\n",
       "    </tr>\n",
       "  </thead>\n",
       "  <tbody>\n",
       "    <tr>\n",
       "      <th>1</th>\n",
       "      <td>Jane</td>\n",
       "      <td>Consultation</td>\n",
       "      <td>2022-02-01</td>\n",
       "    </tr>\n",
       "    <tr>\n",
       "      <th>2</th>\n",
       "      <td>Tom</td>\n",
       "      <td>Surgery</td>\n",
       "      <td>2022-03-01</td>\n",
       "    </tr>\n",
       "    <tr>\n",
       "      <th>3</th>\n",
       "      <td>Alice</td>\n",
       "      <td>Consultation</td>\n",
       "      <td>2022-04-01</td>\n",
       "    </tr>\n",
       "  </tbody>\n",
       "</table>\n",
       "</div>"
      ],
      "text/plain": [
       "  Patient Name Treatment Type Treatment Date\n",
       "1         Jane   Consultation     2022-02-01\n",
       "2          Tom        Surgery     2022-03-01\n",
       "3        Alice   Consultation     2022-04-01"
      ]
     },
     "execution_count": 29,
     "metadata": {},
     "output_type": "execute_result"
    }
   ],
   "source": [
    "treatment_df.tail(-1)"
   ]
  },
  {
   "cell_type": "code",
   "execution_count": null,
   "id": "da694100",
   "metadata": {},
   "outputs": [],
   "source": []
  }
 ],
 "metadata": {
  "kernelspec": {
   "display_name": "Python 3 (ipykernel)",
   "language": "python",
   "name": "python3"
  },
  "language_info": {
   "codemirror_mode": {
    "name": "ipython",
    "version": 3
   },
   "file_extension": ".py",
   "mimetype": "text/x-python",
   "name": "python",
   "nbconvert_exporter": "python",
   "pygments_lexer": "ipython3",
   "version": "3.9.12"
  }
 },
 "nbformat": 4,
 "nbformat_minor": 5
}
